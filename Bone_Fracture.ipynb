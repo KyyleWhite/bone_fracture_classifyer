{
 "cells": [
  {
   "cell_type": "code",
   "execution_count": 1,
   "metadata": {},
   "outputs": [
    {
     "data": {
      "text/html": [
       "\n",
       "<style>\n",
       "    /* Turns off some styling */\n",
       "    progress {\n",
       "        /* gets rid of default border in Firefox and Opera. */\n",
       "        border: none;\n",
       "        /* Needs to be in here for Safari polyfill so background images work as expected. */\n",
       "        background-size: auto;\n",
       "    }\n",
       "    progress:not([value]), progress:not([value])::-webkit-progress-bar {\n",
       "        background: repeating-linear-gradient(45deg, #7e7e7e, #7e7e7e 10px, #5c5c5c 10px, #5c5c5c 20px);\n",
       "    }\n",
       "    .progress-bar-interrupted, .progress-bar-interrupted::-webkit-progress-bar {\n",
       "        background: #F44336;\n",
       "    }\n",
       "</style>\n"
      ],
      "text/plain": [
       "<IPython.core.display.HTML object>"
      ]
     },
     "metadata": {},
     "output_type": "display_data"
    },
    {
     "data": {
      "text/html": [
       "<table border=\"1\" class=\"dataframe\">\n",
       "  <thead>\n",
       "    <tr style=\"text-align: left;\">\n",
       "      <th>epoch</th>\n",
       "      <th>train_loss</th>\n",
       "      <th>valid_loss</th>\n",
       "      <th>accuracy</th>\n",
       "      <th>time</th>\n",
       "    </tr>\n",
       "  </thead>\n",
       "  <tbody>\n",
       "    <tr>\n",
       "      <td>0</td>\n",
       "      <td>0.390101</td>\n",
       "      <td>0.121949</td>\n",
       "      <td>0.958897</td>\n",
       "      <td>01:11</td>\n",
       "    </tr>\n",
       "  </tbody>\n",
       "</table>"
      ],
      "text/plain": [
       "<IPython.core.display.HTML object>"
      ]
     },
     "metadata": {},
     "output_type": "display_data"
    },
    {
     "data": {
      "text/html": [
       "\n",
       "<style>\n",
       "    /* Turns off some styling */\n",
       "    progress {\n",
       "        /* gets rid of default border in Firefox and Opera. */\n",
       "        border: none;\n",
       "        /* Needs to be in here for Safari polyfill so background images work as expected. */\n",
       "        background-size: auto;\n",
       "    }\n",
       "    progress:not([value]), progress:not([value])::-webkit-progress-bar {\n",
       "        background: repeating-linear-gradient(45deg, #7e7e7e, #7e7e7e 10px, #5c5c5c 10px, #5c5c5c 20px);\n",
       "    }\n",
       "    .progress-bar-interrupted, .progress-bar-interrupted::-webkit-progress-bar {\n",
       "        background: #F44336;\n",
       "    }\n",
       "</style>\n"
      ],
      "text/plain": [
       "<IPython.core.display.HTML object>"
      ]
     },
     "metadata": {},
     "output_type": "display_data"
    },
    {
     "data": {
      "text/html": [
       "<table border=\"1\" class=\"dataframe\">\n",
       "  <thead>\n",
       "    <tr style=\"text-align: left;\">\n",
       "      <th>epoch</th>\n",
       "      <th>train_loss</th>\n",
       "      <th>valid_loss</th>\n",
       "      <th>accuracy</th>\n",
       "      <th>time</th>\n",
       "    </tr>\n",
       "  </thead>\n",
       "  <tbody>\n",
       "    <tr>\n",
       "      <td>0</td>\n",
       "      <td>0.080595</td>\n",
       "      <td>0.031010</td>\n",
       "      <td>0.988643</td>\n",
       "      <td>03:17</td>\n",
       "    </tr>\n",
       "    <tr>\n",
       "      <td>1</td>\n",
       "      <td>0.020172</td>\n",
       "      <td>0.015979</td>\n",
       "      <td>0.995133</td>\n",
       "      <td>02:05</td>\n",
       "    </tr>\n",
       "  </tbody>\n",
       "</table>"
      ],
      "text/plain": [
       "<IPython.core.display.HTML object>"
      ]
     },
     "metadata": {},
     "output_type": "display_data"
    },
    {
     "data": {
      "text/html": [
       "\n",
       "<style>\n",
       "    /* Turns off some styling */\n",
       "    progress {\n",
       "        /* gets rid of default border in Firefox and Opera. */\n",
       "        border: none;\n",
       "        /* Needs to be in here for Safari polyfill so background images work as expected. */\n",
       "        background-size: auto;\n",
       "    }\n",
       "    progress:not([value]), progress:not([value])::-webkit-progress-bar {\n",
       "        background: repeating-linear-gradient(45deg, #7e7e7e, #7e7e7e 10px, #5c5c5c 10px, #5c5c5c 20px);\n",
       "    }\n",
       "    .progress-bar-interrupted, .progress-bar-interrupted::-webkit-progress-bar {\n",
       "        background: #F44336;\n",
       "    }\n",
       "</style>\n"
      ],
      "text/plain": [
       "<IPython.core.display.HTML object>"
      ]
     },
     "metadata": {},
     "output_type": "display_data"
    },
    {
     "data": {
      "text/html": [],
      "text/plain": [
       "<IPython.core.display.HTML object>"
      ]
     },
     "metadata": {},
     "output_type": "display_data"
    },
    {
     "name": "stdout",
     "output_type": "stream",
     "text": [
      "Validation Accuracy: 0.9951\n"
     ]
    }
   ],
   "source": [
    "from fastai.vision.all import *\n",
    "from sklearn.metrics import accuracy_score\n",
    "from pathlib import Path\n",
    "from PIL import Image\n",
    "from PIL import ImageFile\n",
    "import matplotlib.pyplot as plt\n",
    "\n",
    "# Allow truncated images \n",
    "ImageFile.LOAD_TRUNCATED_IMAGES = True\n",
    "\n",
    "# Define the paths to the training and testing datasets\n",
    "train_path = Path('/Users/kylewhite/Downloads/archive-3/Bone_Fracture_Binary_Classification/Bone_Fracture_Binary_Classification/train')\n",
    "test_path = Path('/Users/kylewhite/Downloads/archive-3/Bone_Fracture_Binary_Classification/Bone_Fracture_Binary_Classification/test')\n",
    "\n",
    "# Create DataLoaders for the training dataset\n",
    "train_dls = ImageDataLoaders.from_folder(\n",
    "    train_path, \n",
    "    valid_pct=0.2,  # 20% of the training data will go to validation\n",
    "    seed=42,        # Seed for reproducibility\n",
    "    item_tfms=Resize(128),  # Resize images to 128x128\n",
    "    bs=64           # Batch size of 64 \n",
    ")\n",
    "\n",
    "# Create DataLoader (assuming no labels)\n",
    "test_dl = train_dls.test_dl(list(test_path.glob('*/*.jpg')) + list(test_path.glob('*/*.png')))\n",
    "\n",
    "# Create a learner using a pre-trained ResNet18 model\n",
    "learn = vision_learner(train_dls, resnet18, metrics=accuracy)\n",
    "\n",
    "# Train the model\n",
    "learn.fine_tune(2)  # Tune for 2 epochs (accuracy should be around 99.6%)\n",
    "\n",
    "# Evaluate the model's performance on the validation set\n",
    "val_preds, val_targets = learn.get_preds(dl=train_dls.valid)\n",
    "accuracy = accuracy_score(val_targets, val_preds.argmax(dim=1))\n",
    "print(f\"Validation Accuracy: {accuracy:.4f}\")\n",
    "\n",
    "# Save the trained model\n",
    "learn.export('bone_fracture_classifier.pkl')\n"
   ]
  },
  {
   "cell_type": "code",
   "execution_count": 1,
   "metadata": {},
   "outputs": [
    {
     "name": "stderr",
     "output_type": "stream",
     "text": [
      "2024-09-14 09:13:39.372 Python[71039:5042939] WARNING: Secure coding is not enabled for restorable state! Enable secure coding by implementing NSApplicationDelegate.applicationSupportsSecureRestorableState: and returning YES.\n"
     ]
    },
    {
     "data": {
      "text/html": [
       "\n",
       "<style>\n",
       "    /* Turns off some styling */\n",
       "    progress {\n",
       "        /* gets rid of default border in Firefox and Opera. */\n",
       "        border: none;\n",
       "        /* Needs to be in here for Safari polyfill so background images work as expected. */\n",
       "        background-size: auto;\n",
       "    }\n",
       "    progress:not([value]), progress:not([value])::-webkit-progress-bar {\n",
       "        background: repeating-linear-gradient(45deg, #7e7e7e, #7e7e7e 10px, #5c5c5c 10px, #5c5c5c 20px);\n",
       "    }\n",
       "    .progress-bar-interrupted, .progress-bar-interrupted::-webkit-progress-bar {\n",
       "        background: #F44336;\n",
       "    }\n",
       "</style>\n"
      ],
      "text/plain": [
       "<IPython.core.display.HTML object>"
      ]
     },
     "metadata": {},
     "output_type": "display_data"
    },
    {
     "data": {
      "text/html": [],
      "text/plain": [
       "<IPython.core.display.HTML object>"
      ]
     },
     "metadata": {},
     "output_type": "display_data"
    }
   ],
   "source": [
    "import tkinter as tk\n",
    "from tkinter import filedialog\n",
    "from PIL import Image, ImageTk\n",
    "from fastai.vision.all import load_learner, PILImage\n",
    "\n",
    "# model path \n",
    "MODEL_PATH = '/Users/kylewhite/Downloads/archive-3/Bone_Fracture_Binary_Classification/Bone_Fracture_Binary_Classification/train/bone_fracture_classifier.pkl'\n",
    "\n",
    "learn = load_learner(MODEL_PATH)\n",
    "\n",
    "# image classifying function\n",
    "def classify_image(image_path, learner):\n",
    "    img = PILImage.create(image_path)\n",
    "    pred, pred_idx, probs = learner.predict(img)\n",
    "    return pred, probs[pred_idx]\n",
    "\n",
    "# window\n",
    "root = tk.Tk()\n",
    "root.title(\"Image Classifier\")\n",
    "\n",
    "# label to display the image\n",
    "image_label = tk.Label(root, text=\"No image selected\")\n",
    "image_label.pack(padx=10, pady=10)\n",
    "\n",
    "# result label\n",
    "result_label = tk.Label(root, text=\"\")\n",
    "result_label.pack(padx=10, pady=10)\n",
    "\n",
    "def upload_image():\n",
    "    file_path = filedialog.askopenfilename()\n",
    "    if file_path:\n",
    "        # display the image\n",
    "        img = Image.open(file_path)\n",
    "        img = img.resize((250, 250))  # resize image for display\n",
    "        img_tk = ImageTk.PhotoImage(img)\n",
    "        image_label.config(image=img_tk, text=\"\")\n",
    "        image_label.image = img_tk\n",
    "        \n",
    "        # classify image\n",
    "        pred, prob = classify_image(file_path, learn)\n",
    "        result_label.config(text=f\"Prediction: {pred}\\nProbability: {prob:.4f}\")\n",
    "\n",
    "# image button\n",
    "upload_button = tk.Button(root, text=\"Upload Image\", command=upload_image)\n",
    "upload_button.pack(padx=10, pady=10)\n",
    "\n",
    "# run the script\n",
    "root.mainloop()\n"
   ]
  }
 ],
 "metadata": {
  "kernelspec": {
   "display_name": "Python 3",
   "language": "python",
   "name": "python3"
  },
  "language_info": {
   "codemirror_mode": {
    "name": "ipython",
    "version": 3
   },
   "file_extension": ".py",
   "mimetype": "text/x-python",
   "name": "python",
   "nbconvert_exporter": "python",
   "pygments_lexer": "ipython3",
   "version": "3.11.1"
  }
 },
 "nbformat": 4,
 "nbformat_minor": 2
}
